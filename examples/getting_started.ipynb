{
 "cells": [
  {
   "cell_type": "markdown",
   "metadata": {},
   "source": [
    "In this notebook, we create a simple checklist using the UCI Heart dataset that minimizes FPR subject to a constraint on the FNR."
   ]
  },
  {
   "cell_type": "code",
   "execution_count": 1,
   "metadata": {},
   "outputs": [
    {
     "name": "stdout",
     "output_type": "stream",
     "text": [
      "Using CPLEX version 22.1.1.0\n"
     ]
    }
   ],
   "source": [
    "import pandas as pd\n",
    "import numpy as np\n",
    "from sklearn.model_selection import train_test_split\n",
    "\n",
    "import sys; sys.path.insert(0, '/home/alex/projects/predictive_checklists')\n",
    "from IPChecklists.dataset import BinaryDataset\n",
    "\n",
    "# if using CPLEX\n",
    "from IPChecklists.model_cplex import ChecklistMIP\n",
    "from IPChecklists.constraints_cplex import MaxNumFeatureConstraint, FNRConstraint, FPRConstraint\n",
    "\n",
    "# if using Python-MIP\n",
    "# from IPChecklists.model_pythonmip import ChecklistMIP\n",
    "# from IPChecklists.constraints_pythonmip import MaxNumFeatureConstraint, FNRConstraint, FPRConstraint"
   ]
  },
  {
   "cell_type": "markdown",
   "metadata": {},
   "source": [
    "### 1. Load and process the dataset"
   ]
  },
  {
   "cell_type": "code",
   "execution_count": 15,
   "metadata": {},
   "outputs": [],
   "source": [
    "#df = pd.read_csv('./data/heart.csv')\n",
    "df = pd.read_csv('/home/alex/Downloads/processed.cleveland.data', names=['age', 'sex', 'cp', 'trestbps', 'chol', 'fbs', 'restecg', 'thalach',\n",
    "       'exang', 'oldpeak', 'slope', 'ca', 'thal', 'target'])\n",
    "df['target'] = df['target'].apply(lambda x: 1 if x == 0 else 0)\n",
    "\n",
    "\n",
    "# process feature columns\n",
    "cont_cols = ['trestbps', 'chol', 'thalach', 'age', 'oldpeak']\n",
    "for i in cont_cols:\n",
    "    df[i] = df[i].astype(float)\n",
    "\n",
    "cat_cols = ['cp', 'thal', 'ca', 'slope', 'restecg']\n",
    "for i in cat_cols: # cast categorical columns as string for later type inference\n",
    "    df[i] = df[i].astype(str)\n",
    "\n",
    "df_train, df_test = train_test_split(df, test_size = 0.25, random_state = 42, stratify = df['target'])"
   ]
  },
  {
   "cell_type": "code",
   "execution_count": 16,
   "metadata": {},
   "outputs": [
    {
     "data": {
      "text/html": [
       "<div>\n",
       "<style scoped>\n",
       "    .dataframe tbody tr th:only-of-type {\n",
       "        vertical-align: middle;\n",
       "    }\n",
       "\n",
       "    .dataframe tbody tr th {\n",
       "        vertical-align: top;\n",
       "    }\n",
       "\n",
       "    .dataframe thead th {\n",
       "        text-align: right;\n",
       "    }\n",
       "</style>\n",
       "<table border=\"1\" class=\"dataframe\">\n",
       "  <thead>\n",
       "    <tr style=\"text-align: right;\">\n",
       "      <th></th>\n",
       "      <th>age</th>\n",
       "      <th>sex</th>\n",
       "      <th>cp</th>\n",
       "      <th>trestbps</th>\n",
       "      <th>chol</th>\n",
       "      <th>fbs</th>\n",
       "      <th>restecg</th>\n",
       "      <th>thalach</th>\n",
       "      <th>exang</th>\n",
       "      <th>oldpeak</th>\n",
       "      <th>slope</th>\n",
       "      <th>ca</th>\n",
       "      <th>thal</th>\n",
       "      <th>target</th>\n",
       "    </tr>\n",
       "  </thead>\n",
       "  <tbody>\n",
       "    <tr>\n",
       "      <th>258</th>\n",
       "      <td>70.0</td>\n",
       "      <td>1.0</td>\n",
       "      <td>2.0</td>\n",
       "      <td>156.0</td>\n",
       "      <td>245.0</td>\n",
       "      <td>0.0</td>\n",
       "      <td>2.0</td>\n",
       "      <td>143.0</td>\n",
       "      <td>0.0</td>\n",
       "      <td>0.0</td>\n",
       "      <td>1.0</td>\n",
       "      <td>0.0</td>\n",
       "      <td>3.0</td>\n",
       "      <td>1</td>\n",
       "    </tr>\n",
       "    <tr>\n",
       "      <th>73</th>\n",
       "      <td>65.0</td>\n",
       "      <td>1.0</td>\n",
       "      <td>4.0</td>\n",
       "      <td>110.0</td>\n",
       "      <td>248.0</td>\n",
       "      <td>0.0</td>\n",
       "      <td>2.0</td>\n",
       "      <td>158.0</td>\n",
       "      <td>0.0</td>\n",
       "      <td>0.6</td>\n",
       "      <td>1.0</td>\n",
       "      <td>2.0</td>\n",
       "      <td>6.0</td>\n",
       "      <td>0</td>\n",
       "    </tr>\n",
       "    <tr>\n",
       "      <th>57</th>\n",
       "      <td>41.0</td>\n",
       "      <td>1.0</td>\n",
       "      <td>4.0</td>\n",
       "      <td>110.0</td>\n",
       "      <td>172.0</td>\n",
       "      <td>0.0</td>\n",
       "      <td>2.0</td>\n",
       "      <td>158.0</td>\n",
       "      <td>0.0</td>\n",
       "      <td>0.0</td>\n",
       "      <td>1.0</td>\n",
       "      <td>0.0</td>\n",
       "      <td>7.0</td>\n",
       "      <td>0</td>\n",
       "    </tr>\n",
       "    <tr>\n",
       "      <th>83</th>\n",
       "      <td>68.0</td>\n",
       "      <td>1.0</td>\n",
       "      <td>3.0</td>\n",
       "      <td>180.0</td>\n",
       "      <td>274.0</td>\n",
       "      <td>1.0</td>\n",
       "      <td>2.0</td>\n",
       "      <td>150.0</td>\n",
       "      <td>1.0</td>\n",
       "      <td>1.6</td>\n",
       "      <td>2.0</td>\n",
       "      <td>0.0</td>\n",
       "      <td>7.0</td>\n",
       "      <td>0</td>\n",
       "    </tr>\n",
       "    <tr>\n",
       "      <th>33</th>\n",
       "      <td>59.0</td>\n",
       "      <td>1.0</td>\n",
       "      <td>4.0</td>\n",
       "      <td>135.0</td>\n",
       "      <td>234.0</td>\n",
       "      <td>0.0</td>\n",
       "      <td>0.0</td>\n",
       "      <td>161.0</td>\n",
       "      <td>0.0</td>\n",
       "      <td>0.5</td>\n",
       "      <td>2.0</td>\n",
       "      <td>0.0</td>\n",
       "      <td>7.0</td>\n",
       "      <td>1</td>\n",
       "    </tr>\n",
       "  </tbody>\n",
       "</table>\n",
       "</div>"
      ],
      "text/plain": [
       "      age  sex   cp  trestbps   chol  fbs restecg  thalach  exang  oldpeak  \\\n",
       "258  70.0  1.0  2.0     156.0  245.0  0.0     2.0    143.0    0.0      0.0   \n",
       "73   65.0  1.0  4.0     110.0  248.0  0.0     2.0    158.0    0.0      0.6   \n",
       "57   41.0  1.0  4.0     110.0  172.0  0.0     2.0    158.0    0.0      0.0   \n",
       "83   68.0  1.0  3.0     180.0  274.0  1.0     2.0    150.0    1.0      1.6   \n",
       "33   59.0  1.0  4.0     135.0  234.0  0.0     0.0    161.0    0.0      0.5   \n",
       "\n",
       "    slope   ca thal  target  \n",
       "258   1.0  0.0  3.0       1  \n",
       "73    1.0  2.0  6.0       0  \n",
       "57    1.0  0.0  7.0       0  \n",
       "83    2.0  0.0  7.0       0  \n",
       "33    2.0  0.0  7.0       1  "
      ]
     },
     "execution_count": 16,
     "metadata": {},
     "output_type": "execute_result"
    }
   ],
   "source": [
    "df_train.head()"
   ]
  },
  {
   "cell_type": "markdown",
   "metadata": {},
   "source": [
    "### 2. Binarize the dataset"
   ]
  },
  {
   "cell_type": "code",
   "execution_count": 17,
   "metadata": {},
   "outputs": [
    {
     "name": "stderr",
     "output_type": "stream",
     "text": [
      "INFO:root:Removed 2 non-informative columns: {'oldpeak<~0.0', 'oldpeak>=0.0'}\n",
      "INFO:root:Binary dataframe: 66 binary features and 227 samples\n"
     ]
    }
   ],
   "source": [
    "train_ds = BinaryDataset(df_train, \n",
    "                         target_name = 'target',  # column name of target variable\n",
    "                         pos_label = 1, # what value of the target is a \"positive\" prediction\n",
    "                         col_subset = cont_cols + cat_cols # use these columns for modelling\n",
    "                      )"
   ]
  },
  {
   "cell_type": "code",
   "execution_count": 18,
   "metadata": {},
   "outputs": [
    {
     "data": {
      "text/plain": [
       "Index(['trestbps>=120.0', 'trestbps<~120.0', 'trestbps>=130.0',\n",
       "       'trestbps<~130.0', 'trestbps>=140.0', 'trestbps<~140.0', 'chol>=211.0',\n",
       "       'chol<~211.0', 'chol>=240.0', 'chol<~240.0', 'chol>=272.0',\n",
       "       'chol<~272.0', 'thalach>=136.0', 'thalach<~136.0', 'thalach>=152.0',\n",
       "       'thalach<~152.0', 'thalach>=165.5', 'thalach<~165.5', 'age>=47.0',\n",
       "       'age<~47.0', 'age>=55.0', 'age<~55.0', 'age>=61.0', 'age<~61.0',\n",
       "       'oldpeak>=0.8', 'oldpeak<~0.8', 'oldpeak>=1.8', 'oldpeak<~1.8',\n",
       "       'cp==2.0', 'cp!=2.0', 'cp==4.0', 'cp!=4.0', 'cp==3.0', 'cp!=3.0',\n",
       "       'cp==1.0', 'cp!=1.0', 'thal==3.0', 'thal!=3.0', 'thal==6.0',\n",
       "       'thal!=6.0', 'thal==7.0', 'thal!=7.0', 'thal==?', 'thal!=?', 'ca==0.0',\n",
       "       'ca!=0.0', 'ca==2.0', 'ca!=2.0', 'ca==1.0', 'ca!=1.0', 'ca==3.0',\n",
       "       'ca!=3.0', 'ca==?', 'ca!=?', 'slope==1.0', 'slope!=1.0', 'slope==2.0',\n",
       "       'slope!=2.0', 'slope==3.0', 'slope!=3.0', 'restecg==2.0',\n",
       "       'restecg!=2.0', 'restecg==0.0', 'restecg!=0.0', 'restecg==1.0',\n",
       "       'restecg!=1.0'],\n",
       "      dtype='object')"
      ]
     },
     "execution_count": 18,
     "metadata": {},
     "output_type": "execute_result"
    }
   ],
   "source": [
    "# binarized features\n",
    "train_ds.binarized_df.columns"
   ]
  },
  {
   "cell_type": "code",
   "execution_count": 19,
   "metadata": {},
   "outputs": [],
   "source": [
    "test_ds = train_ds.apply_transform(df_test) # binarize the test set using the same thresholds"
   ]
  },
  {
   "cell_type": "markdown",
   "metadata": {},
   "source": [
    "### 3. Create a MIP"
   ]
  },
  {
   "cell_type": "markdown",
   "metadata": {},
   "source": [
    "Here, we minimize the FPR subject to an FNR constraint. The FNR constraint is required, because the model could otherwise obtain 0% FPR by only making negative predictions.\n",
    "\n",
    "Alternatively, we could have set cost_func = '01' (i.e. maximizing accuracy) and not have to use any performance constraints."
   ]
  },
  {
   "cell_type": "code",
   "execution_count": 20,
   "metadata": {},
   "outputs": [
    {
     "name": "stderr",
     "output_type": "stream",
     "text": [
      "WARNING:root:Do not use compression when using fairness constraints!\n",
      "INFO:root:Before compression: 227 rows\n",
      "INFO:root:After compression: 224 rows\n"
     ]
    }
   ],
   "source": [
    "model = ChecklistMIP(train_ds, cost_func = 'FPR') "
   ]
  },
  {
   "cell_type": "markdown",
   "metadata": {},
   "source": [
    "### 4. Build the MIP and add constraints"
   ]
  },
  {
   "cell_type": "code",
   "execution_count": 21,
   "metadata": {},
   "outputs": [],
   "source": [
    "model.add_constraint(FNRConstraint(0.1)) # FNR <= 10%\n",
    "model.build_problem(N_constraint = MaxNumFeatureConstraint('<=', 5)) # use at most 5 features"
   ]
  },
  {
   "cell_type": "markdown",
   "metadata": {},
   "source": [
    "### 5. Solve the MIP"
   ]
  },
  {
   "cell_type": "code",
   "execution_count": 22,
   "metadata": {
    "scrolled": true
   },
   "outputs": [
    {
     "name": "stderr",
     "output_type": "stream",
     "text": [
      "Advanced basis not built.\n"
     ]
    },
    {
     "name": "stdout",
     "output_type": "stream",
     "text": [
      "Found solution with objective 1892.002211784141 and optimality gap 51.81%.\n"
     ]
    }
   ],
   "source": [
    "stats = model.solve(max_seconds=60, display_progress=False) # can solve for longer for better performance"
   ]
  },
  {
   "cell_type": "markdown",
   "metadata": {},
   "source": [
    "### 6. Create a \"checklist\" from the MIP"
   ]
  },
  {
   "cell_type": "code",
   "execution_count": 23,
   "metadata": {},
   "outputs": [],
   "source": [
    "check = model.to_checklist()"
   ]
  },
  {
   "cell_type": "code",
   "execution_count": 24,
   "metadata": {
    "scrolled": true
   },
   "outputs": [
    {
     "data": {
      "text/plain": [
       "oldpeak<~0.8\n",
       "cp!=4.0\n",
       "thal==3.0\n",
       "ca==0.0\n",
       "slope!=2.0\n",
       "\n",
       "M = 3.0, N = 5.0"
      ]
     },
     "execution_count": 24,
     "metadata": {},
     "output_type": "execute_result"
    }
   ],
   "source": [
    "check"
   ]
  },
  {
   "cell_type": "markdown",
   "metadata": {},
   "source": [
    "### 7. Examine various metrics"
   ]
  },
  {
   "cell_type": "code",
   "execution_count": 25,
   "metadata": {},
   "outputs": [
    {
     "data": {
      "text/plain": [
       "{'accuracy': 0.8722466960352423,\n",
       " 'n_samples': 227,\n",
       " 'TN': 86,\n",
       " 'FN': 11,\n",
       " 'TP': 112,\n",
       " 'FP': 18,\n",
       " 'error': 29,\n",
       " 'TPR': 0.9105691056910569,\n",
       " 'FNR': 0.08943089430894309,\n",
       " 'FPR': 0.17307692307692307,\n",
       " 'TNR': 0.8269230769230769,\n",
       " 'precision': 0.8615384615384616,\n",
       " 'pred_prevalence': 0.5726872246696035,\n",
       " 'prevalence': 0.5418502202643172,\n",
       " 'balanced_acc': 0.8687460913070668}"
      ]
     },
     "execution_count": 25,
     "metadata": {},
     "output_type": "execute_result"
    }
   ],
   "source": [
    "# training set performance. Note that FNR <= 10%\n",
    "check.get_metrics(train_ds)"
   ]
  },
  {
   "cell_type": "code",
   "execution_count": 26,
   "metadata": {},
   "outputs": [
    {
     "data": {
      "text/plain": [
       "{'accuracy': 0.7894736842105263,\n",
       " 'n_samples': 76,\n",
       " 'TN': 26,\n",
       " 'FN': 7,\n",
       " 'TP': 34,\n",
       " 'FP': 9,\n",
       " 'error': 16,\n",
       " 'TPR': 0.8292682926829268,\n",
       " 'FNR': 0.17073170731707318,\n",
       " 'FPR': 0.2571428571428571,\n",
       " 'TNR': 0.7428571428571429,\n",
       " 'precision': 0.7906976744186046,\n",
       " 'pred_prevalence': 0.5657894736842105,\n",
       " 'prevalence': 0.5394736842105263,\n",
       " 'balanced_acc': 0.7860627177700348}"
      ]
     },
     "execution_count": 26,
     "metadata": {},
     "output_type": "execute_result"
    }
   ],
   "source": [
    "# test set performance\n",
    "check.get_metrics(test_ds)"
   ]
  },
  {
   "cell_type": "code",
   "execution_count": null,
   "metadata": {},
   "outputs": [],
   "source": []
  }
 ],
 "metadata": {
  "kernelspec": {
   "display_name": "Python 3 (ipykernel)",
   "language": "python",
   "name": "python3"
  },
  "language_info": {
   "codemirror_mode": {
    "name": "ipython",
    "version": 3
   },
   "file_extension": ".py",
   "mimetype": "text/x-python",
   "name": "python",
   "nbconvert_exporter": "python",
   "pygments_lexer": "ipython3",
   "version": "3.9.4"
  }
 },
 "nbformat": 4,
 "nbformat_minor": 2
}
